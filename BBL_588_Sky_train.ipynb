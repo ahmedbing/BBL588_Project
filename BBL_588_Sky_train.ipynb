{
  "nbformat": 4,
  "nbformat_minor": 0,
  "metadata": {
    "colab": {
      "name": "BBL_588_Sky_train.ipynb",
      "provenance": [],
      "collapsed_sections": [],
      "authorship_tag": "ABX9TyOpeX5uiJ4mZ4EVJmzacfh3",
      "include_colab_link": true
    },
    "kernelspec": {
      "name": "python3",
      "display_name": "Python 3"
    },
    "accelerator": "GPU"
  },
  "cells": [
    {
      "cell_type": "markdown",
      "metadata": {
        "id": "view-in-github",
        "colab_type": "text"
      },
      "source": [
        "<a href=\"https://colab.research.google.com/github/ahmedbing/BBL588_Project/blob/master/BBL_588_Sky_train.ipynb\" target=\"_parent\"><img src=\"https://colab.research.google.com/assets/colab-badge.svg\" alt=\"Open In Colab\"/></a>"
      ]
    },
    {
      "cell_type": "code",
      "metadata": {
        "id": "_47pmUfY6vln",
        "colab_type": "code",
        "colab": {}
      },
      "source": [
        "%tensorflow_version 1.x\n"
      ],
      "execution_count": 2,
      "outputs": []
    },
    {
      "cell_type": "code",
      "metadata": {
        "id": "wLfXIu_-haua",
        "colab_type": "code",
        "colab": {
          "base_uri": "https://localhost:8080/",
          "height": 54
        },
        "outputId": "45cd472d-1b89-45ab-e39f-4236893cdc7e"
      },
      "source": [
        "from google.colab import drive\n",
        "drive.mount('/content/drive')"
      ],
      "execution_count": 3,
      "outputs": [
        {
          "output_type": "stream",
          "text": [
            "Drive already mounted at /content/drive; to attempt to forcibly remount, call drive.mount(\"/content/drive\", force_remount=True).\n"
          ],
          "name": "stdout"
        }
      ]
    },
    {
      "cell_type": "code",
      "metadata": {
        "id": "ZrImRqhi5BGm",
        "colab_type": "code",
        "colab": {
          "base_uri": "https://localhost:8080/",
          "height": 34
        },
        "outputId": "5782e017-e897-40c0-82af-d674dd6d936d"
      },
      "source": [
        "cd /content/drive/My\\ Drive/bbl588_final/bbl588_final/Mask_RCNN/samples/balloon/"
      ],
      "execution_count": 4,
      "outputs": [
        {
          "output_type": "stream",
          "text": [
            "/content/drive/My Drive/bbl588_final/bbl588_final/Mask_RCNN/samples/balloon\n"
          ],
          "name": "stdout"
        }
      ]
    },
    {
      "cell_type": "code",
      "metadata": {
        "id": "uStj0hTl54Qa",
        "colab_type": "code",
        "colab": {
          "base_uri": "https://localhost:8080/",
          "height": 51
        },
        "outputId": "65b58043-c109-4b4c-8235-818a4ad1b4fe"
      },
      "source": [
        "ls"
      ],
      "execution_count": 5,
      "outputs": [
        {
          "output_type": "stream",
          "text": [
            "balloon.py                   inspect_bee_data.ipynb  README.md\n",
            "inspect_balloon_model.ipynb  \u001b[0m\u001b[01;34m__pycache__\u001b[0m/\n"
          ],
          "name": "stdout"
        }
      ]
    },
    {
      "cell_type": "code",
      "metadata": {
        "id": "7QilJei26iKH",
        "colab_type": "code",
        "colab": {
          "base_uri": "https://localhost:8080/",
          "height": 1000
        },
        "outputId": "b0159a02-8c1d-4b2f-d13a-4690aa608e56"
      },
      "source": [
        "!python3 balloon.py train --dataset=/content/drive/My\\ Drive/bbl588_final/bbl588_final/Mask_RCNN/datasets/Sky --weights=coco"
      ],
      "execution_count": 7,
      "outputs": [
        {
          "output_type": "stream",
          "text": [
            "Using TensorFlow backend.\n",
            "Weights:  coco\n",
            "Dataset:  /content/drive/My Drive/bbl588_final/bbl588_final/Mask_RCNN/datasets/Sky\n",
            "Logs:  /content/drive/My Drive/bbl588_final/bbl588_final/Mask_RCNN/logs\n",
            "\n",
            "Configurations:\n",
            "BACKBONE                       resnet101\n",
            "BACKBONE_STRIDES               [4, 8, 16, 32, 64]\n",
            "BATCH_SIZE                     2\n",
            "BBOX_STD_DEV                   [0.1 0.1 0.2 0.2]\n",
            "COMPUTE_BACKBONE_SHAPE         None\n",
            "DETECTION_MAX_INSTANCES        100\n",
            "DETECTION_MIN_CONFIDENCE       0.9\n",
            "DETECTION_NMS_THRESHOLD        0.3\n",
            "FPN_CLASSIF_FC_LAYERS_SIZE     1024\n",
            "GPU_COUNT                      1\n",
            "GRADIENT_CLIP_NORM             5.0\n",
            "IMAGES_PER_GPU                 2\n",
            "IMAGE_CHANNEL_COUNT            3\n",
            "IMAGE_MAX_DIM                  1024\n",
            "IMAGE_META_SIZE                14\n",
            "IMAGE_MIN_DIM                  800\n",
            "IMAGE_MIN_SCALE                0\n",
            "IMAGE_RESIZE_MODE              square\n",
            "IMAGE_SHAPE                    [1024 1024    3]\n",
            "LEARNING_MOMENTUM              0.9\n",
            "LEARNING_RATE                  0.001\n",
            "LOSS_WEIGHTS                   {'rpn_class_loss': 1.0, 'rpn_bbox_loss': 1.0, 'mrcnn_class_loss': 1.0, 'mrcnn_bbox_loss': 1.0, 'mrcnn_mask_loss': 1.0}\n",
            "MASK_POOL_SIZE                 14\n",
            "MASK_SHAPE                     [28, 28]\n",
            "MAX_GT_INSTANCES               100\n",
            "MEAN_PIXEL                     [123.7 116.8 103.9]\n",
            "MINI_MASK_SHAPE                (56, 56)\n",
            "NAME                           Sky\n",
            "NUM_CLASSES                    2\n",
            "POOL_SIZE                      7\n",
            "POST_NMS_ROIS_INFERENCE        1000\n",
            "POST_NMS_ROIS_TRAINING         2000\n",
            "PRE_NMS_LIMIT                  6000\n",
            "ROI_POSITIVE_RATIO             0.33\n",
            "RPN_ANCHOR_RATIOS              [0.5, 1, 2]\n",
            "RPN_ANCHOR_SCALES              (32, 64, 128, 256, 512)\n",
            "RPN_ANCHOR_STRIDE              1\n",
            "RPN_BBOX_STD_DEV               [0.1 0.1 0.2 0.2]\n",
            "RPN_NMS_THRESHOLD              0.7\n",
            "RPN_TRAIN_ANCHORS_PER_IMAGE    256\n",
            "STEPS_PER_EPOCH                100\n",
            "TOP_DOWN_PYRAMID_SIZE          256\n",
            "TRAIN_BN                       False\n",
            "TRAIN_ROIS_PER_IMAGE           200\n",
            "USE_MINI_MASK                  True\n",
            "USE_RPN_ROIS                   True\n",
            "VALIDATION_STEPS               50\n",
            "WEIGHT_DECAY                   0.0001\n",
            "\n",
            "\n",
            "WARNING:tensorflow:From /tensorflow-1.15.2/python3.6/tensorflow_core/python/ops/resource_variable_ops.py:1630: calling BaseResourceVariable.__init__ (from tensorflow.python.ops.resource_variable_ops) with constraint is deprecated and will be removed in a future version.\n",
            "Instructions for updating:\n",
            "If using Keras pass *_constraint arguments to layers.\n",
            "WARNING:tensorflow:From /usr/local/lib/python3.6/dist-packages/keras/backend/tensorflow_backend.py:4070: The name tf.nn.max_pool is deprecated. Please use tf.nn.max_pool2d instead.\n",
            "\n",
            "WARNING:tensorflow:From /tensorflow-1.15.2/python3.6/tensorflow_core/python/ops/array_ops.py:1475: where (from tensorflow.python.ops.array_ops) is deprecated and will be removed in a future version.\n",
            "Instructions for updating:\n",
            "Use tf.where in 2.0, which has the same broadcast rule as np.where\n",
            "WARNING:tensorflow:From /content/drive/My Drive/bbl588_final/bbl588_final/Mask_RCNN/mrcnn/model.py:542: The name tf.random_shuffle is deprecated. Please use tf.random.shuffle instead.\n",
            "\n",
            "WARNING:tensorflow:From /content/drive/My Drive/bbl588_final/bbl588_final/Mask_RCNN/mrcnn/utils.py:202: The name tf.log is deprecated. Please use tf.math.log instead.\n",
            "\n",
            "WARNING:tensorflow:From /content/drive/My Drive/bbl588_final/bbl588_final/Mask_RCNN/mrcnn/model.py:589: calling crop_and_resize_v1 (from tensorflow.python.ops.image_ops_impl) with box_ind is deprecated and will be removed in a future version.\n",
            "Instructions for updating:\n",
            "box_ind is deprecated, use box_indices instead\n",
            "Loading weights  /content/drive/My Drive/bbl588_final/bbl588_final/Mask_RCNN/mask_rcnn_coco.h5\n",
            "2020-07-27 11:51:56.021051: I tensorflow/stream_executor/platform/default/dso_loader.cc:44] Successfully opened dynamic library libcuda.so.1\n",
            "2020-07-27 11:51:56.041728: I tensorflow/stream_executor/cuda/cuda_gpu_executor.cc:983] successful NUMA node read from SysFS had negative value (-1), but there must be at least one NUMA node, so returning NUMA node zero\n",
            "2020-07-27 11:51:56.042519: I tensorflow/core/common_runtime/gpu/gpu_device.cc:1639] Found device 0 with properties: \n",
            "name: Tesla K80 major: 3 minor: 7 memoryClockRate(GHz): 0.8235\n",
            "pciBusID: 0000:00:04.0\n",
            "2020-07-27 11:51:56.042831: I tensorflow/stream_executor/platform/default/dso_loader.cc:44] Successfully opened dynamic library libcudart.so.10.1\n",
            "2020-07-27 11:51:56.051092: I tensorflow/stream_executor/platform/default/dso_loader.cc:44] Successfully opened dynamic library libcublas.so.10\n",
            "2020-07-27 11:51:56.052884: I tensorflow/stream_executor/platform/default/dso_loader.cc:44] Successfully opened dynamic library libcufft.so.10\n",
            "2020-07-27 11:51:56.053263: I tensorflow/stream_executor/platform/default/dso_loader.cc:44] Successfully opened dynamic library libcurand.so.10\n",
            "2020-07-27 11:51:56.058155: I tensorflow/stream_executor/platform/default/dso_loader.cc:44] Successfully opened dynamic library libcusolver.so.10\n",
            "2020-07-27 11:51:56.069225: I tensorflow/stream_executor/platform/default/dso_loader.cc:44] Successfully opened dynamic library libcusparse.so.10\n",
            "2020-07-27 11:51:56.076834: I tensorflow/stream_executor/platform/default/dso_loader.cc:44] Successfully opened dynamic library libcudnn.so.7\n",
            "2020-07-27 11:51:56.077059: I tensorflow/stream_executor/cuda/cuda_gpu_executor.cc:983] successful NUMA node read from SysFS had negative value (-1), but there must be at least one NUMA node, so returning NUMA node zero\n",
            "2020-07-27 11:51:56.078089: I tensorflow/stream_executor/cuda/cuda_gpu_executor.cc:983] successful NUMA node read from SysFS had negative value (-1), but there must be at least one NUMA node, so returning NUMA node zero\n",
            "2020-07-27 11:51:56.078960: I tensorflow/core/common_runtime/gpu/gpu_device.cc:1767] Adding visible gpu devices: 0\n",
            "2020-07-27 11:51:56.086202: I tensorflow/core/platform/profile_utils/cpu_utils.cc:94] CPU Frequency: 2300000000 Hz\n",
            "2020-07-27 11:51:56.086480: I tensorflow/compiler/xla/service/service.cc:168] XLA service 0x19408bc0 initialized for platform Host (this does not guarantee that XLA will be used). Devices:\n",
            "2020-07-27 11:51:56.086524: I tensorflow/compiler/xla/service/service.cc:176]   StreamExecutor device (0): Host, Default Version\n",
            "2020-07-27 11:51:56.143557: I tensorflow/stream_executor/cuda/cuda_gpu_executor.cc:983] successful NUMA node read from SysFS had negative value (-1), but there must be at least one NUMA node, so returning NUMA node zero\n",
            "2020-07-27 11:51:56.144524: I tensorflow/compiler/xla/service/service.cc:168] XLA service 0x19408d80 initialized for platform CUDA (this does not guarantee that XLA will be used). Devices:\n",
            "2020-07-27 11:51:56.144593: I tensorflow/compiler/xla/service/service.cc:176]   StreamExecutor device (0): Tesla K80, Compute Capability 3.7\n",
            "2020-07-27 11:51:56.144834: I tensorflow/stream_executor/cuda/cuda_gpu_executor.cc:983] successful NUMA node read from SysFS had negative value (-1), but there must be at least one NUMA node, so returning NUMA node zero\n",
            "2020-07-27 11:51:56.145586: I tensorflow/core/common_runtime/gpu/gpu_device.cc:1639] Found device 0 with properties: \n",
            "name: Tesla K80 major: 3 minor: 7 memoryClockRate(GHz): 0.8235\n",
            "pciBusID: 0000:00:04.0\n",
            "2020-07-27 11:51:56.145671: I tensorflow/stream_executor/platform/default/dso_loader.cc:44] Successfully opened dynamic library libcudart.so.10.1\n",
            "2020-07-27 11:51:56.145752: I tensorflow/stream_executor/platform/default/dso_loader.cc:44] Successfully opened dynamic library libcublas.so.10\n",
            "2020-07-27 11:51:56.145831: I tensorflow/stream_executor/platform/default/dso_loader.cc:44] Successfully opened dynamic library libcufft.so.10\n",
            "2020-07-27 11:51:56.145877: I tensorflow/stream_executor/platform/default/dso_loader.cc:44] Successfully opened dynamic library libcurand.so.10\n",
            "2020-07-27 11:51:56.145921: I tensorflow/stream_executor/platform/default/dso_loader.cc:44] Successfully opened dynamic library libcusolver.so.10\n",
            "2020-07-27 11:51:56.145963: I tensorflow/stream_executor/platform/default/dso_loader.cc:44] Successfully opened dynamic library libcusparse.so.10\n",
            "2020-07-27 11:51:56.146007: I tensorflow/stream_executor/platform/default/dso_loader.cc:44] Successfully opened dynamic library libcudnn.so.7\n",
            "2020-07-27 11:51:56.146142: I tensorflow/stream_executor/cuda/cuda_gpu_executor.cc:983] successful NUMA node read from SysFS had negative value (-1), but there must be at least one NUMA node, so returning NUMA node zero\n",
            "2020-07-27 11:51:56.147045: I tensorflow/stream_executor/cuda/cuda_gpu_executor.cc:983] successful NUMA node read from SysFS had negative value (-1), but there must be at least one NUMA node, so returning NUMA node zero\n",
            "2020-07-27 11:51:56.147770: I tensorflow/core/common_runtime/gpu/gpu_device.cc:1767] Adding visible gpu devices: 0\n",
            "2020-07-27 11:51:56.147850: I tensorflow/stream_executor/platform/default/dso_loader.cc:44] Successfully opened dynamic library libcudart.so.10.1\n",
            "2020-07-27 11:51:56.149396: I tensorflow/core/common_runtime/gpu/gpu_device.cc:1180] Device interconnect StreamExecutor with strength 1 edge matrix:\n",
            "2020-07-27 11:51:56.149434: I tensorflow/core/common_runtime/gpu/gpu_device.cc:1186]      0 \n",
            "2020-07-27 11:51:56.149468: I tensorflow/core/common_runtime/gpu/gpu_device.cc:1199] 0:   N \n",
            "2020-07-27 11:51:56.149721: I tensorflow/stream_executor/cuda/cuda_gpu_executor.cc:983] successful NUMA node read from SysFS had negative value (-1), but there must be at least one NUMA node, so returning NUMA node zero\n",
            "2020-07-27 11:51:56.150519: I tensorflow/stream_executor/cuda/cuda_gpu_executor.cc:983] successful NUMA node read from SysFS had negative value (-1), but there must be at least one NUMA node, so returning NUMA node zero\n",
            "2020-07-27 11:51:56.151270: W tensorflow/core/common_runtime/gpu/gpu_bfc_allocator.cc:39] Overriding allow_growth setting because the TF_FORCE_GPU_ALLOW_GROWTH environment variable is set. Original config value was 0.\n",
            "2020-07-27 11:51:56.151340: I tensorflow/core/common_runtime/gpu/gpu_device.cc:1325] Created TensorFlow device (/job:localhost/replica:0/task:0/device:GPU:0 with 10805 MB memory) -> physical GPU (device: 0, name: Tesla K80, pci bus id: 0000:00:04.0, compute capability: 3.7)\n",
            "Training network heads\n",
            "\n",
            "Starting at epoch 0. LR=0.001\n",
            "\n",
            "Checkpoint Path: /content/drive/My Drive/bbl588_final/bbl588_final/Mask_RCNN/logs/sky20200727T1152/mask_rcnn_sky_{epoch:04d}.h5\n",
            "Selecting layers to train\n",
            "fpn_c5p5               (Conv2D)\n",
            "fpn_c4p4               (Conv2D)\n",
            "fpn_c3p3               (Conv2D)\n",
            "fpn_c2p2               (Conv2D)\n",
            "fpn_p5                 (Conv2D)\n",
            "fpn_p2                 (Conv2D)\n",
            "fpn_p3                 (Conv2D)\n",
            "fpn_p4                 (Conv2D)\n",
            "In model:  rpn_model\n",
            "    rpn_conv_shared        (Conv2D)\n",
            "    rpn_class_raw          (Conv2D)\n",
            "    rpn_bbox_pred          (Conv2D)\n",
            "mrcnn_mask_conv1       (TimeDistributed)\n",
            "mrcnn_mask_bn1         (TimeDistributed)\n",
            "mrcnn_mask_conv2       (TimeDistributed)\n",
            "mrcnn_mask_bn2         (TimeDistributed)\n",
            "mrcnn_class_conv1      (TimeDistributed)\n",
            "mrcnn_class_bn1        (TimeDistributed)\n",
            "mrcnn_mask_conv3       (TimeDistributed)\n",
            "mrcnn_mask_bn3         (TimeDistributed)\n",
            "mrcnn_class_conv2      (TimeDistributed)\n",
            "mrcnn_class_bn2        (TimeDistributed)\n",
            "mrcnn_mask_conv4       (TimeDistributed)\n",
            "mrcnn_mask_bn4         (TimeDistributed)\n",
            "mrcnn_bbox_fc          (TimeDistributed)\n",
            "mrcnn_mask_deconv      (TimeDistributed)\n",
            "mrcnn_class_logits     (TimeDistributed)\n",
            "mrcnn_mask             (TimeDistributed)\n",
            "/tensorflow-1.15.2/python3.6/tensorflow_core/python/framework/indexed_slices.py:424: UserWarning: Converting sparse IndexedSlices to a dense Tensor of unknown shape. This may consume a large amount of memory.\n",
            "  \"Converting sparse IndexedSlices to a dense Tensor of unknown shape. \"\n",
            "/tensorflow-1.15.2/python3.6/tensorflow_core/python/framework/indexed_slices.py:424: UserWarning: Converting sparse IndexedSlices to a dense Tensor of unknown shape. This may consume a large amount of memory.\n",
            "  \"Converting sparse IndexedSlices to a dense Tensor of unknown shape. \"\n",
            "/tensorflow-1.15.2/python3.6/tensorflow_core/python/framework/indexed_slices.py:424: UserWarning: Converting sparse IndexedSlices to a dense Tensor of unknown shape. This may consume a large amount of memory.\n",
            "  \"Converting sparse IndexedSlices to a dense Tensor of unknown shape. \"\n",
            "WARNING:tensorflow:From /usr/local/lib/python3.6/dist-packages/keras/backend/tensorflow_backend.py:422: The name tf.global_variables is deprecated. Please use tf.compat.v1.global_variables instead.\n",
            "\n",
            "WARNING:tensorflow:From /usr/local/lib/python3.6/dist-packages/keras/backend/tensorflow_backend.py:431: The name tf.is_variable_initialized is deprecated. Please use tf.compat.v1.is_variable_initialized instead.\n",
            "\n",
            "WARNING:tensorflow:From /usr/local/lib/python3.6/dist-packages/keras/backend/tensorflow_backend.py:438: The name tf.variables_initializer is deprecated. Please use tf.compat.v1.variables_initializer instead.\n",
            "\n",
            "/usr/local/lib/python3.6/dist-packages/keras/engine/training_generator.py:49: UserWarning: Using a generator with `use_multiprocessing=True` and multiple workers may duplicate your data. Please consider using the `keras.utils.Sequence class.\n",
            "  UserWarning('Using a generator with `use_multiprocessing=True`'\n",
            "WARNING:tensorflow:From /usr/local/lib/python3.6/dist-packages/keras/callbacks/tensorboard_v1.py:200: The name tf.summary.merge_all is deprecated. Please use tf.compat.v1.summary.merge_all instead.\n",
            "\n",
            "WARNING:tensorflow:From /usr/local/lib/python3.6/dist-packages/keras/callbacks/tensorboard_v1.py:203: The name tf.summary.FileWriter is deprecated. Please use tf.compat.v1.summary.FileWriter instead.\n",
            "\n",
            "Epoch 1/25\n",
            "2020-07-27 11:54:44.925847: I tensorflow/stream_executor/platform/default/dso_loader.cc:44] Successfully opened dynamic library libcublas.so.10\n",
            "2020-07-27 11:54:46.439542: I tensorflow/stream_executor/platform/default/dso_loader.cc:44] Successfully opened dynamic library libcudnn.so.7\n",
            "100/100 [==============================] - 357s 4s/step - loss: 1.1183 - rpn_class_loss: 0.0357 - rpn_bbox_loss: 0.3110 - mrcnn_class_loss: 0.0388 - mrcnn_bbox_loss: 0.3927 - mrcnn_mask_loss: 0.3401 - val_loss: 0.4068 - val_rpn_class_loss: 0.0082 - val_rpn_bbox_loss: 0.1889 - val_mrcnn_class_loss: 0.0179 - val_mrcnn_bbox_loss: 0.1698 - val_mrcnn_mask_loss: 0.1228\n",
            "WARNING:tensorflow:From /usr/local/lib/python3.6/dist-packages/keras/callbacks/tensorboard_v1.py:343: The name tf.Summary is deprecated. Please use tf.compat.v1.Summary instead.\n",
            "\n",
            "Epoch 2/25\n",
            "100/100 [==============================] - 282s 3s/step - loss: 0.4452 - rpn_class_loss: 0.0051 - rpn_bbox_loss: 0.1958 - mrcnn_class_loss: 0.0167 - mrcnn_bbox_loss: 0.1300 - mrcnn_mask_loss: 0.0975 - val_loss: 0.3305 - val_rpn_class_loss: 0.0052 - val_rpn_bbox_loss: 0.1773 - val_mrcnn_class_loss: 0.0125 - val_mrcnn_bbox_loss: 0.0931 - val_mrcnn_mask_loss: 0.0697\n",
            "Epoch 3/25\n",
            "100/100 [==============================] - 283s 3s/step - loss: 0.2835 - rpn_class_loss: 0.0055 - rpn_bbox_loss: 0.1357 - mrcnn_class_loss: 0.0106 - mrcnn_bbox_loss: 0.0691 - mrcnn_mask_loss: 0.0626 - val_loss: 0.1760 - val_rpn_class_loss: 0.0054 - val_rpn_bbox_loss: 0.1483 - val_mrcnn_class_loss: 0.0112 - val_mrcnn_bbox_loss: 0.0570 - val_mrcnn_mask_loss: 0.0539\n",
            "Epoch 4/25\n",
            "100/100 [==============================] - 281s 3s/step - loss: 0.3430 - rpn_class_loss: 0.0044 - rpn_bbox_loss: 0.1680 - mrcnn_class_loss: 0.0137 - mrcnn_bbox_loss: 0.0992 - mrcnn_mask_loss: 0.0578 - val_loss: 0.2525 - val_rpn_class_loss: 0.0041 - val_rpn_bbox_loss: 0.1572 - val_mrcnn_class_loss: 0.0128 - val_mrcnn_bbox_loss: 0.1418 - val_mrcnn_mask_loss: 0.0550\n",
            "Epoch 5/25\n",
            "100/100 [==============================] - 281s 3s/step - loss: 0.3350 - rpn_class_loss: 0.0036 - rpn_bbox_loss: 0.1810 - mrcnn_class_loss: 0.0150 - mrcnn_bbox_loss: 0.0854 - mrcnn_mask_loss: 0.0500 - val_loss: 0.1871 - val_rpn_class_loss: 0.0048 - val_rpn_bbox_loss: 0.1478 - val_mrcnn_class_loss: 0.0199 - val_mrcnn_bbox_loss: 0.1159 - val_mrcnn_mask_loss: 0.0478\n",
            "Epoch 6/25\n",
            "100/100 [==============================] - 281s 3s/step - loss: 0.6455 - rpn_class_loss: 0.0136 - rpn_bbox_loss: 0.4828 - mrcnn_class_loss: 0.0291 - mrcnn_bbox_loss: 0.0700 - mrcnn_mask_loss: 0.0500 - val_loss: 0.3369 - val_rpn_class_loss: 0.0032 - val_rpn_bbox_loss: 0.1351 - val_mrcnn_class_loss: 0.0329 - val_mrcnn_bbox_loss: 0.0667 - val_mrcnn_mask_loss: 0.0438\n",
            "Epoch 7/25\n",
            "100/100 [==============================] - 281s 3s/step - loss: 0.5989 - rpn_class_loss: 0.0108 - rpn_bbox_loss: 0.4516 - mrcnn_class_loss: 0.0269 - mrcnn_bbox_loss: 0.0638 - mrcnn_mask_loss: 0.0459 - val_loss: 0.2323 - val_rpn_class_loss: 0.0035 - val_rpn_bbox_loss: 0.1437 - val_mrcnn_class_loss: 0.0226 - val_mrcnn_bbox_loss: 0.0424 - val_mrcnn_mask_loss: 0.0419\n",
            "Epoch 8/25\n",
            "100/100 [==============================] - 281s 3s/step - loss: 0.2569 - rpn_class_loss: 0.0041 - rpn_bbox_loss: 0.1380 - mrcnn_class_loss: 0.0238 - mrcnn_bbox_loss: 0.0492 - mrcnn_mask_loss: 0.0418 - val_loss: 0.2897 - val_rpn_class_loss: 0.0044 - val_rpn_bbox_loss: 0.1071 - val_mrcnn_class_loss: 0.0197 - val_mrcnn_bbox_loss: 0.0370 - val_mrcnn_mask_loss: 0.0577\n",
            "Epoch 9/25\n",
            "100/100 [==============================] - 281s 3s/step - loss: 0.2096 - rpn_class_loss: 0.0039 - rpn_bbox_loss: 0.1086 - mrcnn_class_loss: 0.0170 - mrcnn_bbox_loss: 0.0401 - mrcnn_mask_loss: 0.0400 - val_loss: 0.2737 - val_rpn_class_loss: 0.0045 - val_rpn_bbox_loss: 0.1557 - val_mrcnn_class_loss: 0.0190 - val_mrcnn_bbox_loss: 0.0465 - val_mrcnn_mask_loss: 0.0458\n",
            "Epoch 10/25\n",
            "100/100 [==============================] - 281s 3s/step - loss: 0.2264 - rpn_class_loss: 0.0035 - rpn_bbox_loss: 0.1177 - mrcnn_class_loss: 0.0209 - mrcnn_bbox_loss: 0.0424 - mrcnn_mask_loss: 0.0419 - val_loss: 0.2352 - val_rpn_class_loss: 0.0035 - val_rpn_bbox_loss: 0.0997 - val_mrcnn_class_loss: 0.0235 - val_mrcnn_bbox_loss: 0.0610 - val_mrcnn_mask_loss: 0.0397\n",
            "Epoch 11/25\n",
            "100/100 [==============================] - 280s 3s/step - loss: 0.3998 - rpn_class_loss: 0.0081 - rpn_bbox_loss: 0.2933 - mrcnn_class_loss: 0.0223 - mrcnn_bbox_loss: 0.0391 - mrcnn_mask_loss: 0.0370 - val_loss: 0.1721 - val_rpn_class_loss: 0.0030 - val_rpn_bbox_loss: 0.1120 - val_mrcnn_class_loss: 0.0171 - val_mrcnn_bbox_loss: 0.0541 - val_mrcnn_mask_loss: 0.0366\n",
            "Epoch 12/25\n",
            "100/100 [==============================] - 279s 3s/step - loss: 0.1769 - rpn_class_loss: 0.0026 - rpn_bbox_loss: 0.0963 - mrcnn_class_loss: 0.0180 - mrcnn_bbox_loss: 0.0269 - mrcnn_mask_loss: 0.0331 - val_loss: 0.2022 - val_rpn_class_loss: 0.0031 - val_rpn_bbox_loss: 0.0847 - val_mrcnn_class_loss: 0.0168 - val_mrcnn_bbox_loss: 0.0209 - val_mrcnn_mask_loss: 0.0353\n",
            "Epoch 13/25\n",
            "100/100 [==============================] - 278s 3s/step - loss: 0.1496 - rpn_class_loss: 0.0040 - rpn_bbox_loss: 0.0774 - mrcnn_class_loss: 0.0158 - mrcnn_bbox_loss: 0.0214 - mrcnn_mask_loss: 0.0309 - val_loss: 0.2669 - val_rpn_class_loss: 0.0038 - val_rpn_bbox_loss: 0.0931 - val_mrcnn_class_loss: 0.0146 - val_mrcnn_bbox_loss: 0.0216 - val_mrcnn_mask_loss: 0.0400\n",
            "Epoch 14/25\n",
            "100/100 [==============================] - 278s 3s/step - loss: 0.2415 - rpn_class_loss: 0.0058 - rpn_bbox_loss: 0.1598 - mrcnn_class_loss: 0.0164 - mrcnn_bbox_loss: 0.0292 - mrcnn_mask_loss: 0.0304 - val_loss: 0.1036 - val_rpn_class_loss: 0.0025 - val_rpn_bbox_loss: 0.0767 - val_mrcnn_class_loss: 0.0136 - val_mrcnn_bbox_loss: 0.0257 - val_mrcnn_mask_loss: 0.0303\n",
            "Epoch 15/25\n",
            "100/100 [==============================] - 279s 3s/step - loss: 0.1464 - rpn_class_loss: 0.0036 - rpn_bbox_loss: 0.0717 - mrcnn_class_loss: 0.0135 - mrcnn_bbox_loss: 0.0243 - mrcnn_mask_loss: 0.0333 - val_loss: 0.1179 - val_rpn_class_loss: 0.0035 - val_rpn_bbox_loss: 0.0871 - val_mrcnn_class_loss: 0.0139 - val_mrcnn_bbox_loss: 0.0219 - val_mrcnn_mask_loss: 0.0333\n",
            "Epoch 16/25\n",
            "100/100 [==============================] - 280s 3s/step - loss: 0.1425 - rpn_class_loss: 0.0028 - rpn_bbox_loss: 0.0721 - mrcnn_class_loss: 0.0134 - mrcnn_bbox_loss: 0.0248 - mrcnn_mask_loss: 0.0293 - val_loss: 0.1522 - val_rpn_class_loss: 0.0032 - val_rpn_bbox_loss: 0.0763 - val_mrcnn_class_loss: 0.0131 - val_mrcnn_bbox_loss: 0.0278 - val_mrcnn_mask_loss: 0.0350\n",
            "Epoch 17/25\n",
            "100/100 [==============================] - 281s 3s/step - loss: 0.1477 - rpn_class_loss: 0.0032 - rpn_bbox_loss: 0.0690 - mrcnn_class_loss: 0.0151 - mrcnn_bbox_loss: 0.0283 - mrcnn_mask_loss: 0.0321 - val_loss: 0.1815 - val_rpn_class_loss: 0.0022 - val_rpn_bbox_loss: 0.0897 - val_mrcnn_class_loss: 0.0178 - val_mrcnn_bbox_loss: 0.0243 - val_mrcnn_mask_loss: 0.0304\n",
            "Epoch 18/25\n",
            "100/100 [==============================] - 281s 3s/step - loss: 0.1325 - rpn_class_loss: 0.0028 - rpn_bbox_loss: 0.0629 - mrcnn_class_loss: 0.0144 - mrcnn_bbox_loss: 0.0228 - mrcnn_mask_loss: 0.0297 - val_loss: 0.2174 - val_rpn_class_loss: 0.0025 - val_rpn_bbox_loss: 0.0726 - val_mrcnn_class_loss: 0.0146 - val_mrcnn_bbox_loss: 0.0255 - val_mrcnn_mask_loss: 0.0335\n",
            "Epoch 19/25\n",
            "100/100 [==============================] - 281s 3s/step - loss: 0.1463 - rpn_class_loss: 0.0032 - rpn_bbox_loss: 0.0749 - mrcnn_class_loss: 0.0145 - mrcnn_bbox_loss: 0.0237 - mrcnn_mask_loss: 0.0300 - val_loss: 0.2192 - val_rpn_class_loss: 0.0029 - val_rpn_bbox_loss: 0.0768 - val_mrcnn_class_loss: 0.0153 - val_mrcnn_bbox_loss: 0.0211 - val_mrcnn_mask_loss: 0.0325\n",
            "Epoch 20/25\n",
            "100/100 [==============================] - 280s 3s/step - loss: 0.1130 - rpn_class_loss: 0.0021 - rpn_bbox_loss: 0.0558 - mrcnn_class_loss: 0.0117 - mrcnn_bbox_loss: 0.0142 - mrcnn_mask_loss: 0.0293 - val_loss: 0.1479 - val_rpn_class_loss: 0.0024 - val_rpn_bbox_loss: 0.0701 - val_mrcnn_class_loss: 0.0139 - val_mrcnn_bbox_loss: 0.0170 - val_mrcnn_mask_loss: 0.0292\n",
            "Epoch 21/25\n",
            "100/100 [==============================] - 281s 3s/step - loss: 0.1201 - rpn_class_loss: 0.0020 - rpn_bbox_loss: 0.0591 - mrcnn_class_loss: 0.0134 - mrcnn_bbox_loss: 0.0155 - mrcnn_mask_loss: 0.0301 - val_loss: 0.1976 - val_rpn_class_loss: 0.0026 - val_rpn_bbox_loss: 0.0835 - val_mrcnn_class_loss: 0.0113 - val_mrcnn_bbox_loss: 0.0188 - val_mrcnn_mask_loss: 0.0342\n",
            "Epoch 22/25\n",
            "100/100 [==============================] - 281s 3s/step - loss: 0.1310 - rpn_class_loss: 0.0026 - rpn_bbox_loss: 0.0701 - mrcnn_class_loss: 0.0126 - mrcnn_bbox_loss: 0.0175 - mrcnn_mask_loss: 0.0282 - val_loss: 0.1642 - val_rpn_class_loss: 0.0027 - val_rpn_bbox_loss: 0.1091 - val_mrcnn_class_loss: 0.0130 - val_mrcnn_bbox_loss: 0.0242 - val_mrcnn_mask_loss: 0.0327\n",
            "Epoch 23/25\n",
            "100/100 [==============================] - 281s 3s/step - loss: 0.3049 - rpn_class_loss: 0.0070 - rpn_bbox_loss: 0.2198 - mrcnn_class_loss: 0.0167 - mrcnn_bbox_loss: 0.0300 - mrcnn_mask_loss: 0.0314 - val_loss: 0.2063 - val_rpn_class_loss: 0.0026 - val_rpn_bbox_loss: 0.0747 - val_mrcnn_class_loss: 0.0168 - val_mrcnn_bbox_loss: 0.0262 - val_mrcnn_mask_loss: 0.0304\n",
            "Epoch 24/25\n",
            "100/100 [==============================] - 280s 3s/step - loss: 0.1483 - rpn_class_loss: 0.0027 - rpn_bbox_loss: 0.0810 - mrcnn_class_loss: 0.0159 - mrcnn_bbox_loss: 0.0196 - mrcnn_mask_loss: 0.0290 - val_loss: 0.1170 - val_rpn_class_loss: 0.0022 - val_rpn_bbox_loss: 0.0723 - val_mrcnn_class_loss: 0.0159 - val_mrcnn_bbox_loss: 0.0199 - val_mrcnn_mask_loss: 0.0318\n",
            "Epoch 25/25\n",
            "100/100 [==============================] - 281s 3s/step - loss: 0.1537 - rpn_class_loss: 0.0043 - rpn_bbox_loss: 0.0869 - mrcnn_class_loss: 0.0155 - mrcnn_bbox_loss: 0.0190 - mrcnn_mask_loss: 0.0279 - val_loss: 0.1708 - val_rpn_class_loss: 0.0019 - val_rpn_bbox_loss: 0.0758 - val_mrcnn_class_loss: 0.0132 - val_mrcnn_bbox_loss: 0.0182 - val_mrcnn_mask_loss: 0.0282\n"
          ],
          "name": "stdout"
        }
      ]
    },
    {
      "cell_type": "code",
      "metadata": {
        "id": "C8pQqXiBGPL5",
        "colab_type": "code",
        "colab": {
          "base_uri": "https://localhost:8080/",
          "height": 51
        },
        "outputId": "4461d2ad-2884-4010-90a4-4e7c25482de6"
      },
      "source": [
        "ls"
      ],
      "execution_count": 8,
      "outputs": [
        {
          "output_type": "stream",
          "text": [
            "balloon.py                   inspect_bee_data.ipynb  README.md\n",
            "inspect_balloon_model.ipynb  \u001b[0m\u001b[01;34m__pycache__\u001b[0m/\n"
          ],
          "name": "stdout"
        }
      ]
    },
    {
      "cell_type": "code",
      "metadata": {
        "id": "uqGwGbyGl7q7",
        "colab_type": "code",
        "colab": {
          "base_uri": "https://localhost:8080/",
          "height": 34
        },
        "outputId": "b35e89ec-d1dc-4733-c122-4c383eb9fef3"
      },
      "source": [
        "cd ..\n"
      ],
      "execution_count": 9,
      "outputs": [
        {
          "output_type": "stream",
          "text": [
            "/content/drive/My Drive/bbl588_final/bbl588_final/Mask_RCNN/samples\n"
          ],
          "name": "stdout"
        }
      ]
    },
    {
      "cell_type": "code",
      "metadata": {
        "id": "70y559L2mI7R",
        "colab_type": "code",
        "colab": {
          "base_uri": "https://localhost:8080/",
          "height": 34
        },
        "outputId": "057ba432-2c91-4ad2-edd7-a7a958d3baa5"
      },
      "source": [
        "cd .."
      ],
      "execution_count": 10,
      "outputs": [
        {
          "output_type": "stream",
          "text": [
            "/content/drive/My Drive/bbl588_final/bbl588_final/Mask_RCNN\n"
          ],
          "name": "stdout"
        }
      ]
    },
    {
      "cell_type": "code",
      "metadata": {
        "id": "Iwcf0FKMmKSp",
        "colab_type": "code",
        "colab": {
          "base_uri": "https://localhost:8080/",
          "height": 68
        },
        "outputId": "c9e9dd16-cf7c-48f1-87b7-cc40a56147f5"
      },
      "source": [
        "ls"
      ],
      "execution_count": 11,
      "outputs": [
        {
          "output_type": "stream",
          "text": [
            "\u001b[0m\u001b[01;34massets\u001b[0m/    LICENSE      mask_rcnn_balloon.h5  README.md         setup.cfg\n",
            "\u001b[01;34mdatasets\u001b[0m/  \u001b[01;34mlogs\u001b[0m/        mask_rcnn_coco.h5     requirements.txt  setup.py\n",
            "\u001b[01;34mimages\u001b[0m/    MANIFEST.in  \u001b[01;34mmrcnn\u001b[0m/                \u001b[01;34msamples\u001b[0m/\n"
          ],
          "name": "stdout"
        }
      ]
    },
    {
      "cell_type": "code",
      "metadata": {
        "id": "mBJtg2rGmLOR",
        "colab_type": "code",
        "colab": {}
      },
      "source": [
        ""
      ],
      "execution_count": null,
      "outputs": []
    }
  ]
}